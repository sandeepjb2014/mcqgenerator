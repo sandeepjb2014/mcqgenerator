{
 "cells": [
  {
   "cell_type": "code",
   "execution_count": null,
   "id": "ebb1d765",
   "metadata": {},
   "outputs": [
    {
     "ename": "ImportError",
     "evalue": "cannot import name 'generate_evaluate_chain' from 'src.mcqgenerator' (c:\\users\\sande\\mcqgenerator\\src\\mcqgenerator\\__init__.py)",
     "output_type": "error",
     "traceback": [
      "\u001b[31m---------------------------------------------------------------------------\u001b[39m",
      "\u001b[31mImportError\u001b[39m                               Traceback (most recent call last)",
      "\u001b[36mCell\u001b[39m\u001b[36m \u001b[39m\u001b[32mIn[1]\u001b[39m\u001b[32m, line 1\u001b[39m\n\u001b[32m----> \u001b[39m\u001b[32m1\u001b[39m \u001b[38;5;28;01mfrom\u001b[39;00m\u001b[38;5;250m \u001b[39m\u001b[34;01msrc\u001b[39;00m\u001b[34;01m.\u001b[39;00m\u001b[34;01mmcqgenerator\u001b[39;00m\u001b[38;5;250m \u001b[39m\u001b[38;5;28;01mimport\u001b[39;00m generate_evaluate_chain\n",
      "\u001b[31mImportError\u001b[39m: cannot import name 'generate_evaluate_chain' from 'src.mcqgenerator' (c:\\users\\sande\\mcqgenerator\\src\\mcqgenerator\\__init__.py)"
     ]
    }
   ],
   "source": [
    "from src.mcqgenerator.chain import generate_evaluate_chain"
   ]
  },
  {
   "cell_type": "code",
   "execution_count": null,
   "id": "a93b92f1",
   "metadata": {},
   "outputs": [],
   "source": []
  }
 ],
 "metadata": {
  "kernelspec": {
   "display_name": "Python 3",
   "language": "python",
   "name": "python3"
  },
  "language_info": {
   "codemirror_mode": {
    "name": "ipython",
    "version": 3
   },
   "file_extension": ".py",
   "mimetype": "text/x-python",
   "name": "python",
   "nbconvert_exporter": "python",
   "pygments_lexer": "ipython3",
   "version": "3.12.11"
  }
 },
 "nbformat": 4,
 "nbformat_minor": 5
}
